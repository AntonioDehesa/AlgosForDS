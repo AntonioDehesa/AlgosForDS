{
 "cells": [
  {
   "cell_type": "code",
   "execution_count": 1,
   "id": "40ecb644",
   "metadata": {},
   "outputs": [],
   "source": [
    "# Imports\n"
   ]
  },
  {
   "cell_type": "code",
   "execution_count": 2,
   "id": "fa2a403f",
   "metadata": {},
   "outputs": [],
   "source": [
    "def printMatrix(m):\n",
    "    for row in m:\n",
    "        print(row)"
   ]
  },
  {
   "cell_type": "code",
   "execution_count": 3,
   "id": "072ae6ab",
   "metadata": {},
   "outputs": [],
   "source": [
    "def parenStr(parentLoc: list, matrixes: list = []):\n",
    "    n = len(matrixes)\n",
    "    if n == 1:\n",
    "        return \"({})\".format(matrixes[0])\n",
    "    else:\n",
    "        i = int(matrixes[0][1])\n",
    "        j = int(matrixes[n-1][1])\n",
    "        location = matrixes.index(\"A{}\".format(parentLoc[i][j])) + 1\n",
    "        p1 = matrixes[0:location]\n",
    "        p2 = matrixes[location:]\n",
    "        resp1 = parenStr(parentLoc, matrixes=p1)\n",
    "        resp2 = parenStr(parentLoc, matrixes=p2)\n",
    "        res = \"({}{})\".format(resp1,resp2)\n",
    "        return res"
   ]
  },
  {
   "cell_type": "code",
   "execution_count": 10,
   "id": "305f0603",
   "metadata": {},
   "outputs": [],
   "source": [
    "def chainMatrix(dims):\n",
    "    # Create the empty 2-D table\n",
    "    n = len(dims)-1\n",
    "    m = [[float(\"inf\") for i in range(n)] for j in range(n)]\n",
    "    tracebackTable = [[None for i in range(n)] for j in range(n)]\n",
    "    # Fill in the base case values\n",
    "    for i in range(n):\n",
    "        m[i][i] = 0\n",
    "    # Fill in the rest of the table diagonal by diagonal\n",
    "    for chainLength in range(2,n+1): \n",
    "        for i in range(n+1-chainLength):\n",
    "            j = i + chainLength - 1\n",
    "            # Fill in m[i][j] with the best of the recursive options\n",
    "            #m[i][j] = float(\"inf\") \n",
    "            for k in range(i,j):\n",
    "                # Two previous table values plus\n",
    "                # what it cost to mult the resulting matrices\n",
    "                q = m[i][k]+m[k+1][j]+dims[i]*dims[k+1]*dims[j+1] \n",
    "                if q < m[i][j]:\n",
    "                    m[i][j] = q\n",
    "                    tracebackTable[i][j] = k\n",
    "    #printMatrix(m) \n",
    "    Matrixes = [\"A{}\".format(i) for i in range(n)]\n",
    "    bestParenthesis = parenStr(tracebackTable, matrixes=Matrixes)\n",
    "    bestParenthesis = bestParenthesis[1:len(bestParenthesis)-1] # This line removes the final parenthesis, \n",
    "                                                                # which is not in the expected answer\n",
    "    print(bestParenthesis)\n",
    "    return m[0][n-1], tracebackTable"
   ]
  },
  {
   "cell_type": "code",
   "execution_count": 11,
   "id": "64a7e7fe",
   "metadata": {},
   "outputs": [
    {
     "name": "stdout",
     "output_type": "stream",
     "text": [
      "((A0)((A1)(A2)))(((A3)(A4))(A5))\n",
      "15125\n",
      "[None, 0, 0, 2, 2, 2]\n",
      "[None, None, 1, 2, 2, 2]\n",
      "[None, None, None, 2, 2, 2]\n",
      "[None, None, None, None, 3, 4]\n",
      "[None, None, None, None, None, 4]\n",
      "[None, None, None, None, None, None]\n"
     ]
    }
   ],
   "source": [
    "dims = [30,35,15,5,10,20,25]\n",
    "res = chainMatrix(dims)\n",
    "print(res[0])\n",
    "x  = res[1]\n",
    "for row in x:\n",
    "    print(row)"
   ]
  }
 ],
 "metadata": {
  "kernelspec": {
   "display_name": "Python 3 (ipykernel)",
   "language": "python",
   "name": "python3"
  },
  "language_info": {
   "codemirror_mode": {
    "name": "ipython",
    "version": 3
   },
   "file_extension": ".py",
   "mimetype": "text/x-python",
   "name": "python",
   "nbconvert_exporter": "python",
   "pygments_lexer": "ipython3",
   "version": "3.9.12"
  }
 },
 "nbformat": 4,
 "nbformat_minor": 5
}
