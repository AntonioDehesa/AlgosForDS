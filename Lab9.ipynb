{
 "cells": [
  {
   "cell_type": "code",
   "execution_count": 13,
   "id": "2694b02f",
   "metadata": {},
   "outputs": [],
   "source": [
    "# Imports\n"
   ]
  },
  {
   "cell_type": "code",
   "execution_count": 1,
   "id": "d9adaba3",
   "metadata": {},
   "outputs": [],
   "source": [
    "# Dijkstra's shortest path greedy algorithm\n",
    "# Find the min priority vertex from the list of given vertices\n",
    "# Each vertex in the form of a list with priority as the first # element returns the min vertex and removes it from the list \n",
    "def extractMin(verts):\n",
    "    minIndex = 0\n",
    "    for v in range(1,len(verts)):\n",
    "        if verts[v][1] < verts[minIndex][1]: \n",
    "            minIndex = v\n",
    "    return verts.pop(minIndex)"
   ]
  },
  {
   "cell_type": "code",
   "execution_count": 2,
   "id": "4ac9fae6",
   "metadata": {},
   "outputs": [],
   "source": [
    "# Dijkstra's shortest path algorithm \n",
    "def shortest(g):\n",
    "    # Create a list of vertices and their current shortest distances\n",
    "    # from vertex 0\n",
    "    # [vertNum, dist] \n",
    "    nVerts = len(g)\n",
    "    vertsToProcess = [[i, float(\"inf\")] for i in range(nVerts)]\n",
    "    # Start at vertex 0 - it has a current shortest distance of 0 \n",
    "    vertsToProcess[0][1] = 0\n",
    "    # Start with an empty list of processed edges \n",
    "    vertsProcessed = []\n",
    "    while len(vertsToProcess) > 0:\n",
    "        u = extractMin(vertsToProcess) \n",
    "        vertsProcessed.append(u)\n",
    "        #print(\"to process:\",vertsToProcess)\n",
    "        #print(\" processed:\",vertsProcessed)\n",
    "        # Examine all potential verts remaining \n",
    "        for v in vertsToProcess:\n",
    "            # Only care about the ones that are adjacent to u \n",
    "            if g[u[0]][v[0]] > 0:\n",
    "                # Update the distances if necessary \n",
    "                if u[1] + g[u[0]][v[0]] < v[1]:\n",
    "                    v[1] = u[1] + g[u[0]][v[0]]\n",
    "    print(vertsProcessed)"
   ]
  },
  {
   "cell_type": "code",
   "execution_count": 10,
   "id": "b634185c",
   "metadata": {},
   "outputs": [],
   "source": [
    "def mst(g):\n",
    "    # We create the queue for the V and E\n",
    "    Q = [[i, float(\"inf\"), None] for i in range(len(g))]\n",
    "    \n",
    "    # Start at vertex 0 - it has a minimum edge weight of 0 to itself\n",
    "    Q[0][1] = 0\n",
    "    # List of processed edges\n",
    "    P = []\n",
    "    \n",
    "    while Q:\n",
    "        u = extractMin(Q)\n",
    "        P.append(u)\n",
    "        \n",
    "        for v in Q:\n",
    "            if g[u[0]][v[0]] > 0 and v[1] > g[u[0]][v[0]]:\n",
    "                # Update the weight for v[1]\n",
    "                v[1] = g[u[0]][v[0]]\n",
    "                # And update v[2]\n",
    "                v[2] = u[0]\n",
    "    # Now we just build the answer\n",
    "    mstEdges = [[v[0], v[2]] for v in P if v[2] is not None]\n",
    "    # We add the reference to the root node, 0, which is -1. \n",
    "    mstEdges.insert(0, [P[0][0], -1])\n",
    "    \n",
    "    return mstEdges"
   ]
  },
  {
   "cell_type": "code",
   "execution_count": 11,
   "id": "b98afe73",
   "metadata": {},
   "outputs": [
    {
     "name": "stdout",
     "output_type": "stream",
     "text": [
      "[[0, -1], [1, 0], [3, 1], [2, 3], [5, 3], [4, 5], [7, 1], [6, 0]]\n"
     ]
    }
   ],
   "source": [
    "graph = [[0, 7, 0, 0, 0, 10, 15, 0],\n",
    "[7, 0, 12, 5, 0, 0, 0, 9],\n",
    "[0, 12, 0, 6, 0, 0, 0, 0],\n",
    "[0, 5, 6, 0, 14, 8, 0, 0],\n",
    "[0, 0, 0, 14, 0, 3, 0, 0],\n",
    "[10, 0, 0, 8, 3, 0, 0, 0],\n",
    "[15, 0, 0, 0, 0, 0, 0, 0],\n",
    "[0, 9, 0, 0, 0, 0, 0, 0]]\n",
    "#x=shortest(graph)\n",
    "x=mst(graph)\n",
    "print(x)"
   ]
  }
 ],
 "metadata": {
  "kernelspec": {
   "display_name": "Python 3 (ipykernel)",
   "language": "python",
   "name": "python3"
  },
  "language_info": {
   "codemirror_mode": {
    "name": "ipython",
    "version": 3
   },
   "file_extension": ".py",
   "mimetype": "text/x-python",
   "name": "python",
   "nbconvert_exporter": "python",
   "pygments_lexer": "ipython3",
   "version": "3.9.12"
  }
 },
 "nbformat": 4,
 "nbformat_minor": 5
}
