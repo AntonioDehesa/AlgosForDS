{
 "cells": [
  {
   "cell_type": "code",
   "execution_count": 7,
   "id": "4b0f7f28",
   "metadata": {},
   "outputs": [],
   "source": [
    "# Imports\n",
    "import math\n",
    "import time\n",
    "import random"
   ]
  },
  {
   "cell_type": "code",
   "execution_count": 8,
   "id": "0c0c8005",
   "metadata": {},
   "outputs": [],
   "source": [
    "def isPrime(p):\n",
    "    if p < 2:\n",
    "        return False\n",
    "    else:\n",
    "        for i in range(2,int(math.sqrt(p))+1):\n",
    "            if (p%i) == 0:\n",
    "                return False\n",
    "        return True\n",
    "    return False"
   ]
  },
  {
   "cell_type": "code",
   "execution_count": 9,
   "id": "e9c03b55",
   "metadata": {},
   "outputs": [],
   "source": [
    "def nBitPrime(n: int):\n",
    "    my_number = 0\n",
    "    while not isPrime(my_number):\n",
    "        x = random.random()\n",
    "        #my_number = random.randint(2,n)\n",
    "        my_number = x*(2**n)\n",
    "        my_number = int(my_number)\n",
    "    return my_number"
   ]
  },
  {
   "cell_type": "code",
   "execution_count": 10,
   "id": "8467c738",
   "metadata": {},
   "outputs": [],
   "source": [
    "def generatePQ(n: int):\n",
    "    P = nBitPrime(n)\n",
    "    Q = nBitPrime(n)\n",
    "    return P*Q"
   ]
  },
  {
   "cell_type": "code",
   "execution_count": 11,
   "id": "78bfa039",
   "metadata": {},
   "outputs": [],
   "source": [
    "def factor(PQ: int):\n",
    "    for i in range(2,PQ):\n",
    "        if PQ%i == 0:\n",
    "            P = i\n",
    "            break\n",
    "    Q = PQ / P\n",
    "    return P,Q"
   ]
  },
  {
   "cell_type": "code",
   "execution_count": 12,
   "id": "a483bf4a",
   "metadata": {},
   "outputs": [
    {
     "name": "stdout",
     "output_type": "stream",
     "text": [
      "N\t\tTime\n",
      "10\t\t0.000\n",
      "11\t\t0.000\n",
      "12\t\t0.000\n",
      "13\t\t0.998\n",
      "14\t\t0.000\n",
      "15\t\t1.400\n",
      "16\t\t1.009\n",
      "17\t\t1.002\n",
      "18\t\t6.078\n",
      "19\t\t3.042\n",
      "20\t\t19.649\n",
      "21\t\t134.652\n",
      "22\t\t171.472\n",
      "23\t\t179.963\n",
      "24\t\t249.002\n",
      "25\t\t756.048\n",
      "26\t\t3725.135\n",
      "27\t\t5050.425\n",
      "28\t\t8009.441\n",
      "29\t\t551.531\n",
      "30\t\t57144.830\n",
      "31\t\t117532.652\n",
      "32\t\t277897.700\n",
      "33\t\t18157.436\n",
      "34\t\t738112.050\n"
     ]
    }
   ],
   "source": [
    "n = 10\n",
    "print(\"N\\t\\tTime\")\n",
    "while n <= 100:\n",
    "    PQ = generatePQ(n)\n",
    "    t1 = time.time()\n",
    "    P,Q = factor(PQ)\n",
    "    t2 = time.time()\n",
    "    difftime = (t2-t1)*1000\n",
    "    print(\"{}\\t\\t{:.3f}\".format(n,difftime))\n",
    "    if t2-t1 > 300: #t2-t1 = time difference in seconds. If this is over 300 seconds, that is higher than 5 minutes, \n",
    "                             #which is our time limit\n",
    "        break\n",
    "    n+=1\n",
    "# After running this code, we introduced those values into Excel, \n",
    "# and then used the curve fitting feature to get the approximate function it follows. It is something like: 4E-05e^0.6721x\n",
    "# With this, we get that the approximate time to crack a 1024 bit key in my laptop would be 9.9456E283 years.\n",
    "# I tried to check with a 2048 bits key, and the number was so large Excel was unable to show it."
   ]
  }
 ],
 "metadata": {
  "kernelspec": {
   "display_name": "Python 3 (ipykernel)",
   "language": "python",
   "name": "python3"
  },
  "language_info": {
   "codemirror_mode": {
    "name": "ipython",
    "version": 3
   },
   "file_extension": ".py",
   "mimetype": "text/x-python",
   "name": "python",
   "nbconvert_exporter": "python",
   "pygments_lexer": "ipython3",
   "version": "3.9.12"
  }
 },
 "nbformat": 4,
 "nbformat_minor": 5
}
