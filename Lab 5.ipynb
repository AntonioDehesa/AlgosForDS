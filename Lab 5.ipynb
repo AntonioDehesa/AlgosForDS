{
 "cells": [
  {
   "cell_type": "code",
   "execution_count": 45,
   "id": "e83a275a",
   "metadata": {},
   "outputs": [],
   "source": [
    "# imports\n",
    "from collections import deque"
   ]
  },
  {
   "cell_type": "code",
   "execution_count": 46,
   "id": "9cc8cf33",
   "metadata": {},
   "outputs": [],
   "source": [
    "# MyStack\n",
    "class MyStack:\n",
    "    # Create\n",
    "    def __init__(self, type):\n",
    "        self.stack = []\n",
    "        self.stackType = type\n",
    "    # Add\n",
    "    def push(self, elem):\n",
    "        if type(elem) is self.stackType:\n",
    "            self.stack.append(elem)\n",
    "        else:\n",
    "            raise Exception(\"The type of the new element is not the same as the type of the stack\")\n",
    "    \n",
    "    # Remove\n",
    "    def pop(self):\n",
    "        if self.empty():\n",
    "            raise Exception(\"Stack is empty. Cannot delete elements from an empty stack\")\n",
    "        else:\n",
    "            self.stack.pop()\n",
    "    \n",
    "    # Top\n",
    "    def top(self):\n",
    "        if self.empty():\n",
    "            raise Exception(\"No elements in the stack\")\n",
    "        else:\n",
    "            return self.stack[-1]\n",
    "    \n",
    "    # Empty\n",
    "    def empty(self):\n",
    "        return len(self.stack) == 0"
   ]
  },
  {
   "cell_type": "code",
   "execution_count": 47,
   "id": "fc86a577",
   "metadata": {},
   "outputs": [],
   "source": [
    "# MyQueue\n",
    "class MyQueue:\n",
    "    # Create\n",
    "    def __init__(self, type):\n",
    "        self.queue = deque()\n",
    "        self.queueType = type\n",
    "    def enqueue(self, elem):\n",
    "        if type(elem) is self.queueType:\n",
    "            self.queue.append(elem)\n",
    "        else:\n",
    "            raise Exception(\"Element of the element is not the same as the element of the queue\")\n",
    "    def front(self):\n",
    "        if self.empty():\n",
    "            raise Exception(\"Cannot return elements from an empty queue\")\n",
    "        else:\n",
    "            return self.queue[0]\n",
    "    def empty(self):\n",
    "        return len(self.queue) == 0\n",
    "    def dequeue(self):\n",
    "        if self.empty():\n",
    "            raise Exception(\"Cannot delete elements from an empty queue\")\n",
    "        else:\n",
    "            return self.queue.popleft()"
   ]
  },
  {
   "cell_type": "code",
   "execution_count": null,
   "id": "808c62ad",
   "metadata": {},
   "outputs": [],
   "source": []
  },
  {
   "cell_type": "code",
   "execution_count": 48,
   "id": "f1161035",
   "metadata": {},
   "outputs": [
    {
     "name": "stdout",
     "output_type": "stream",
     "text": [
      "True\n",
      "None\n",
      "False\n",
      "3\n",
      "None\n",
      "None\n",
      "True\n",
      "5\n",
      "False\n",
      "8\n",
      "8\n",
      "3\n"
     ]
    },
    {
     "ename": "Exception",
     "evalue": "Cannot delete elements from an empty queue",
     "output_type": "error",
     "traceback": [
      "\u001b[1;31m---------------------------------------------------------------------------\u001b[0m",
      "\u001b[1;31mException\u001b[0m                                 Traceback (most recent call last)",
      "Input \u001b[1;32mIn [48]\u001b[0m, in \u001b[0;36m<cell line: 24>\u001b[1;34m()\u001b[0m\n\u001b[0;32m     22\u001b[0m \u001b[38;5;28mprint\u001b[39m(q\u001b[38;5;241m.\u001b[39mdequeue())\n\u001b[0;32m     23\u001b[0m \u001b[38;5;28mprint\u001b[39m(q\u001b[38;5;241m.\u001b[39mdequeue())\n\u001b[1;32m---> 24\u001b[0m \u001b[38;5;28mprint\u001b[39m(\u001b[43mq\u001b[49m\u001b[38;5;241;43m.\u001b[39;49m\u001b[43mdequeue\u001b[49m\u001b[43m(\u001b[49m\u001b[43m)\u001b[49m)\n",
      "Input \u001b[1;32mIn [47]\u001b[0m, in \u001b[0;36mMyQueue.dequeue\u001b[1;34m(self)\u001b[0m\n\u001b[0;32m     19\u001b[0m \u001b[38;5;28;01mdef\u001b[39;00m \u001b[38;5;21mdequeue\u001b[39m(\u001b[38;5;28mself\u001b[39m):\n\u001b[0;32m     20\u001b[0m     \u001b[38;5;28;01mif\u001b[39;00m \u001b[38;5;28mself\u001b[39m\u001b[38;5;241m.\u001b[39mempty():\n\u001b[1;32m---> 21\u001b[0m         \u001b[38;5;28;01mraise\u001b[39;00m \u001b[38;5;167;01mException\u001b[39;00m(\u001b[38;5;124m\"\u001b[39m\u001b[38;5;124mCannot delete elements from an empty queue\u001b[39m\u001b[38;5;124m\"\u001b[39m)\n\u001b[0;32m     22\u001b[0m     \u001b[38;5;28;01melse\u001b[39;00m:\n\u001b[0;32m     23\u001b[0m         \u001b[38;5;28;01mreturn\u001b[39;00m \u001b[38;5;28mself\u001b[39m\u001b[38;5;241m.\u001b[39mqueue\u001b[38;5;241m.\u001b[39mpopleft()\n",
      "\u001b[1;31mException\u001b[0m: Cannot delete elements from an empty queue"
     ]
    }
   ],
   "source": [
    "# Testing code for stack\n",
    "s = MyStack(int)\n",
    "print(s.empty())\n",
    "s.push(5)\n",
    "s.push(8)\n",
    "print(s.pop())\n",
    "s.push(3)\n",
    "print(s.empty())\n",
    "print(s.top())\n",
    "print(s.pop())\n",
    "print(s.pop())\n",
    "#print(s.pop()) # should generate an error\n",
    "# Testing code for Queue\n",
    "q = MyQueue(int)\n",
    "print(q.empty())\n",
    "q.enqueue(5)\n",
    "q.enqueue(8)\n",
    "print(q.dequeue())\n",
    "q.enqueue(3)\n",
    "print(q.empty())\n",
    "print(q.front())\n",
    "print(q.dequeue())\n",
    "print(q.dequeue())\n",
    "print(q.dequeue())# should generate an error"
   ]
  }
 ],
 "metadata": {
  "kernelspec": {
   "display_name": "Python 3 (ipykernel)",
   "language": "python",
   "name": "python3"
  },
  "language_info": {
   "codemirror_mode": {
    "name": "ipython",
    "version": 3
   },
   "file_extension": ".py",
   "mimetype": "text/x-python",
   "name": "python",
   "nbconvert_exporter": "python",
   "pygments_lexer": "ipython3",
   "version": "3.9.12"
  }
 },
 "nbformat": 4,
 "nbformat_minor": 5
}
