{
 "cells": [
  {
   "cell_type": "code",
   "execution_count": 1,
   "id": "b69cef27",
   "metadata": {},
   "outputs": [],
   "source": [
    "# imports\n",
    "from time import time\n",
    "from collections import defaultdict"
   ]
  },
  {
   "cell_type": "code",
   "execution_count": 2,
   "id": "374d8017",
   "metadata": {},
   "outputs": [],
   "source": [
    "# Algorithm 1: Divide-and-Conquer\n",
    "def DACcoins(coins, amount):\n",
    "    if amount == 0: # The base case\n",
    "        return 0\n",
    "    else: # The recursive case\n",
    "        minCoins = float(\"inf\")\n",
    "        for currentCoin in coins: # Check all coins\n",
    "            # If we can give change\n",
    "            if (amount - currentCoin) >= 0:\n",
    "                # Calculate the optimal for currentCoin\n",
    "                currentMin = DACcoins(coins, amount-currentCoin) + 1\n",
    "                # Keep the best\n",
    "                minCoins = min(minCoins, currentMin) \n",
    "        return minCoins"
   ]
  },
  {
   "cell_type": "code",
   "execution_count": 6,
   "id": "029465b8",
   "metadata": {},
   "outputs": [],
   "source": [
    "# Algorithm 2: Dynamic Programming with Traceback\n",
    "def DPcoins(coins, amount):\n",
    "    n = len(coins)\n",
    "    # Create the initial tables\n",
    "    optNum = defaultdict(int)\n",
    "    actualCoins = defaultdict(list)\n",
    "    # Fill in the base case(s)\n",
    "    for coin in coins:\n",
    "        optNum[coin] = 1\n",
    "        actualCoins[coin].append(coin)\n",
    "    actualCoins[0].append(0)\n",
    "    # Fill in the rest of the table\n",
    "    for i in range(n):\n",
    "        coin = coins[i]\n",
    "        for j in range(1,amount+1):\n",
    "            if optNum[j]  == 1:\n",
    "                pass # Base case\n",
    "            elif j > coin:\n",
    "                if (optNum[j-coin] + optNum[coin] > 0 and optNum[j-coin] + optNum[coin] < optNum[j]) or optNum[j] == 0:\n",
    "                    optNum[j] = optNum[j-coin] + optNum[coin]\n",
    "                    actualCoins[j] = actualCoins[j-coin] + actualCoins[coin]\n",
    "                    #if len(actualCoins[j]) != optNum[j]:\n",
    "                    #    raise Exception(\"The optimal number is not equal to the amount of provided coins\")\n",
    "                    #if sum(actualCoins[j]) != j:\n",
    "                    #    raise Exception(\"The sum of the provided coins is not equal to the current amount\")\n",
    "    res = actualCoins[amount]\n",
    "    res.sort()\n",
    "    for elem in res:\n",
    "        print(elem)\n",
    "    return optNum[amount]#, actualCoins"
   ]
  },
  {
   "cell_type": "code",
   "execution_count": 7,
   "id": "6cb42a8f",
   "metadata": {},
   "outputs": [
    {
     "name": "stdout",
     "output_type": "stream",
     "text": [
      "Enter desired amount of change: 544\n",
      "DP:\n",
      "10\n",
      "10\n",
      "12\n",
      "12\n",
      "25\n",
      "25\n",
      "25\n",
      "25\n",
      "25\n",
      "25\n",
      "25\n",
      "25\n",
      "25\n",
      "25\n",
      "25\n",
      "25\n",
      "25\n",
      "25\n",
      "25\n",
      "25\n",
      "25\n",
      "25\n",
      "25\n",
      "25\n",
      "optimal: 24  in time:  5.5 ms\n"
     ]
    }
   ],
   "source": [
    "C = [1,5,10,12,25] # coin denominations (must include a penny)\n",
    "A = int(input('Enter desired amount of change: '))\n",
    "# A = 29\n",
    "assert A>=0\n",
    "#print(\"DAC:\") \n",
    "#t1 = time()\n",
    "#numCoins = DACcoins(C,A) \n",
    "#t2 = time()\n",
    "#print(\"optimal:\",numCoins,\" in time: \",round((t2-t1)*1000,1),\"ms\")\n",
    "#print() \n",
    "print(\"DP:\") \n",
    "t1 = time()\n",
    "numCoins = DPcoins(C,A) \n",
    "t2 = time()\n",
    "print(\"optimal:\",numCoins,\" in time: \",round((t2-t1)*1000,1),\"ms\")"
   ]
  }
 ],
 "metadata": {
  "kernelspec": {
   "display_name": "Python 3 (ipykernel)",
   "language": "python",
   "name": "python3"
  },
  "language_info": {
   "codemirror_mode": {
    "name": "ipython",
    "version": 3
   },
   "file_extension": ".py",
   "mimetype": "text/x-python",
   "name": "python",
   "nbconvert_exporter": "python",
   "pygments_lexer": "ipython3",
   "version": "3.9.12"
  }
 },
 "nbformat": 4,
 "nbformat_minor": 5
}
