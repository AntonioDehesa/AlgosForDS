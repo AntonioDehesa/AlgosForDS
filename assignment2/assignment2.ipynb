{
 "cells": [
  {
   "cell_type": "code",
   "execution_count": 11,
   "id": "1876bb97",
   "metadata": {},
   "outputs": [],
   "source": [
    "# Imports\n",
    "import csv\n",
    "from collections import defaultdict\n",
    "import time"
   ]
  },
  {
   "cell_type": "code",
   "execution_count": 2,
   "id": "7c9ae713",
   "metadata": {},
   "outputs": [],
   "source": [
    "class Stock: \n",
    "    # In this case, I decided that the best way to get both the max profit and the buy and sell dates was to\n",
    "    # create an object Stock that had the profit, the buy, and the sell dates. Then, when adding the profits, \n",
    "    # we just had to also \"add\" the dates.\n",
    "    def __init__(self, ticker, buy_date, sell_date, price_change, company = None):\n",
    "        self.ticker = ticker\n",
    "        self.company = company\n",
    "        self.buy_date = buy_date\n",
    "        self.sell_date = sell_date\n",
    "        self.price_change = price_change\n",
    "    def __gt__(self, other):\n",
    "        if type(other) == Stock:\n",
    "            return self.price_change > other.price_change\n",
    "        else:\n",
    "            return self.price_change > other\n",
    "    def __str__(self):\n",
    "        return \"{}, {}, {}, {}, {}\".format(self.ticker, self.company, self.buy_date, self.sell_date, self.price_change)"
   ]
  },
  {
   "cell_type": "code",
   "execution_count": 3,
   "id": "36af4e79",
   "metadata": {},
   "outputs": [],
   "source": [
    "def read_csv_stock(stock_data):\n",
    "    res = defaultdict(list)\n",
    "    with open(stock_data, \"r\", newline=\"\") as file:\n",
    "        lines = csv.reader(file, delimiter=' ')\n",
    "        next(lines, None) # This line skips the headers\n",
    "        for line in lines:\n",
    "            row = line[0].split(\",\")\n",
    "            tick = row[1]\n",
    "            res[tick].append(line)\n",
    "        return res"
   ]
  },
  {
   "cell_type": "code",
   "execution_count": 4,
   "id": "c0582648",
   "metadata": {},
   "outputs": [],
   "source": [
    "def read_csv_companies(securities):\n",
    "    res = {}\n",
    "    with open(securities, \"r\", newline=\"\") as file:\n",
    "        lines = csv.reader(file, delimiter=',')\n",
    "        next(lines, None) # This line skips the headers\n",
    "        for line in lines:\n",
    "            tick = line[0]\n",
    "            company = line[1]\n",
    "            res[tick] = company\n",
    "        return res"
   ]
  },
  {
   "cell_type": "code",
   "execution_count": 5,
   "id": "7c3a654f",
   "metadata": {},
   "outputs": [],
   "source": [
    "def MSSDAC(A, low = 0, high = None):\n",
    "    # The algorith is basically the same as the one in the pdf, but this one uses my object Stock instead of the profit directly\n",
    "    if high == None: \n",
    "        high = len(A) - 1\n",
    "    # Base case\n",
    "    if low == high:\n",
    "        if A[low].price_change > 0 : \n",
    "            return Stock(A[0].ticker,A[0].buy_date,A[0].sell_date,A[0].price_change, A[0].company)\n",
    "        else:\n",
    "            return Stock(A[0].ticker,A[0].buy_date,A[0].sell_date,0, A[0].company)\n",
    "    # divide\n",
    "    mid = (low + high) // 2\n",
    "    # conquer\n",
    "    maxLeft = MSSDAC(A, low, mid)\n",
    "    maxRight = MSSDAC(A, mid+1, high)\n",
    "    # Combine\n",
    "    maxLeft2Center = Stock(A[0].ticker,A[0].buy_date,A[0].sell_date,0, A[0].company)\n",
    "    left2Center = Stock(A[mid].ticker, None, A[mid].sell_date, 0, None)\n",
    "    for i in range(mid, low-1, -1):\n",
    "        left2Center.price_change += A[i].price_change\n",
    "        if left2Center > maxLeft2Center:\n",
    "            left2Center.buy_date = A[i].buy_date\n",
    "            maxLeft2Center = Stock(A[i].ticker, A[i].buy_date, A[i].sell_date, left2Center.price_change)\n",
    "    maxRight2Center = Stock(A[0].ticker,A[0].buy_date,A[0].sell_date,0, A[0].company)\n",
    "    right2Center = Stock(A[mid].ticker, None, A[high].sell_date, 0, None)\n",
    "    for i in range(mid+1, high+1):\n",
    "        right2Center.price_change += A[i].price_change\n",
    "        if right2Center > maxRight2Center:\n",
    "            right2Center.buy_date = A[i].buy_date\n",
    "            maxRight2Center = Stock(A[i].ticker, A[i].buy_date, A[i].sell_date, right2Center.price_change)\n",
    "    plus_stock = Stock(A[0].ticker,maxLeft2Center.buy_date,maxRight2Center.sell_date,maxRight2Center.price_change + maxLeft2Center.price_change, A[0].company)\n",
    "    return max(maxLeft, maxRight, plus_stock)"
   ]
  },
  {
   "cell_type": "code",
   "execution_count": 12,
   "id": "bea2279a",
   "metadata": {},
   "outputs": [],
   "source": [
    "def max_stock_profit(stocks, companies):\n",
    "    res = []\n",
    "    max_profit = Stock(\"NONE\", \"1901-01-01\", \"1901-01-01\", float(\"-inf\"), company = \"NONE\")\n",
    "    for key in stocks.keys():\n",
    "        A = []\n",
    "        days = stocks[key]\n",
    "        for i in range(len(days)-1):\n",
    "            open_sell = float(days[i+1][0].split(\",\")[3])\n",
    "            open_buy = float(days[i][0].split(\",\")[3])\n",
    "            date_buy = days[i][0].split(\",\")[0]\n",
    "            date_sell = days[i+1][0].split(\",\")[0]\n",
    "            price_change = open_sell-open_buy\n",
    "            A.append(Stock(key, date_buy, date_sell, price_change, company=companies[key]))\n",
    "        temp = MSSDAC(A)\n",
    "        res.append(temp)\n",
    "        if temp > max_profit:\n",
    "            max_profit = temp\n",
    "    #max_profit = max(res)\n",
    "    print(\"Best stock to buy: \\\"{}\\\" on {} and sell on {} with profit of {}\".format(max_profit.company, max_profit.buy_date, max_profit.sell_date, max_profit.price_change))\n",
    "    return res"
   ]
  },
  {
   "cell_type": "code",
   "execution_count": 13,
   "id": "c41cdf16",
   "metadata": {},
   "outputs": [],
   "source": [
    "def max_stock_profit2(stocks, companies):\n",
    "    res = []\n",
    "    max_profit = Stock(\"NONE\", \"1901-01-01\", \"1901-01-01\", float(\"-inf\"), company = \"NONE\")\n",
    "    for key in stocks.keys():\n",
    "        A = []\n",
    "        days = stocks[key]\n",
    "        for i in range(len(days)-1):\n",
    "            open_sell = float(days[i+1][0].split(\",\")[3])\n",
    "            open_buy = float(days[i][0].split(\",\")[3])\n",
    "            date_buy = days[i][0].split(\",\")[0]\n",
    "            date_sell = days[i+1][0].split(\",\")[0]\n",
    "            price_change = open_sell-open_buy\n",
    "            A.append(Stock(key, date_buy, date_sell, price_change, company=companies[key]))\n",
    "        res.append(MSSDAC(A))\n",
    "    max_profit = max(res)\n",
    "    print(\"Best stock to buy: \\\"{}\\\" on {} and sell on {} with profit of {}\".format(max_profit.company, max_profit.buy_date, max_profit.sell_date, max_profit.price_change))\n",
    "    return res"
   ]
  },
  {
   "cell_type": "code",
   "execution_count": 7,
   "id": "8185f74e",
   "metadata": {},
   "outputs": [],
   "source": [
    "stocks = \"prices-split-adjusted.csv\"\n",
    "securities = \"securities.csv\"\n",
    "dict_stocks = read_csv_stock(stocks)\n",
    "dict_companies = read_csv_companies(securities)"
   ]
  },
  {
   "cell_type": "code",
   "execution_count": 14,
   "id": "4ca5e948",
   "metadata": {},
   "outputs": [
    {
     "name": "stdout",
     "output_type": "stream",
     "text": [
      "Best stock to buy: \"Priceline.com Inc\" on 2010-06-09 and sell on 2016-11-08 with profit of 1402.940003\n",
      "Best stock to buy: \"Priceline.com Inc\" on 2010-06-09 and sell on 2016-11-08 with profit of 1402.940003\n",
      "11703.962802886963\n",
      "9456.899881362915\n"
     ]
    }
   ],
   "source": [
    "t1 = time.time()\n",
    "res1 = max_stock_profit(dict_stocks, dict_companies)\n",
    "t2 = time.time()\n",
    "res1time = (t2-t1)*1000\n",
    "\n",
    "t1 = time.time()\n",
    "res2 = max_stock_profit2(dict_stocks, dict_companies)\n",
    "t2 = time.time()\n",
    "res2time = (t2-t1)*1000\n",
    "\n",
    "\n",
    "#for s in res1:\n",
    "#    print(str(s))\n",
    "print(res1time)\n",
    "print(res2time)"
   ]
  },
  {
   "cell_type": "code",
   "execution_count": 17,
   "id": "1110fe5e",
   "metadata": {},
   "outputs": [
    {
     "name": "stdout",
     "output_type": "stream",
     "text": [
      "505\n"
     ]
    }
   ],
   "source": [
    "print(len(dict_companies))"
   ]
  }
 ],
 "metadata": {
  "kernelspec": {
   "display_name": "Python 3 (ipykernel)",
   "language": "python",
   "name": "python3"
  },
  "language_info": {
   "codemirror_mode": {
    "name": "ipython",
    "version": 3
   },
   "file_extension": ".py",
   "mimetype": "text/x-python",
   "name": "python",
   "nbconvert_exporter": "python",
   "pygments_lexer": "ipython3",
   "version": "3.9.12"
  }
 },
 "nbformat": 4,
 "nbformat_minor": 5
}
