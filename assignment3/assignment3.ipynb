{
 "cells": [
  {
   "cell_type": "code",
   "execution_count": 25,
   "id": "8843f818",
   "metadata": {},
   "outputs": [],
   "source": [
    "# imports\n",
    "import pandas as pd\n",
    "import itertools\n",
    "from collections import defaultdict"
   ]
  },
  {
   "cell_type": "code",
   "execution_count": 4,
   "id": "12c4df37",
   "metadata": {},
   "outputs": [],
   "source": [
    "class Investment(object):\n",
    "    def __init__(self, InvestmentName, InvestmentCost, ROI):\n",
    "        self.InvestmentName = InvestmentName\n",
    "        self.InvestmentCost = InvestmentCost\n",
    "        self.ROI = ROI\n",
    "    \n",
    "    def __str__(self):\n",
    "        return \"{},{},{}\".format(self.InvestmentName, self.InvestmentCost, self.ROI)\n",
    "    \n",
    "    def __gt__(self, other):\n",
    "        if type(other) == Investment:\n",
    "            return self.ROI > other.ROI\n",
    "        else:\n",
    "            return self.ROI > other"
   ]
  },
  {
   "cell_type": "code",
   "execution_count": 5,
   "id": "621ce9e2",
   "metadata": {},
   "outputs": [],
   "source": [
    "def loadInvestments(file):\n",
    "    #investments = pd.read_csv(file, skiprows=2, usecols=[2,4,9], header=None, nrows=10) # Uncomment for tests\n",
    "    investments = pd.read_csv(file, skiprows=2, usecols=[2,4,9], header=None)#, nrows=10)\n",
    "    res = []\n",
    "    for row in investments.iterrows():\n",
    "        investmentName = row[1][2]\n",
    "        investmentCost = row[1][4]\n",
    "        ROI = row[1][9] * investmentCost\n",
    "        investment = Investment(investmentName, investmentCost, ROI)\n",
    "        res.append(investment)\n",
    "    return res"
   ]
  },
  {
   "cell_type": "code",
   "execution_count": 7,
   "id": "23a8847a",
   "metadata": {},
   "outputs": [],
   "source": [
    "def optimizeInvestments(investments, money):\n",
    "    n = len(investments)\n",
    "    K = [[0 for x in range(money + 1)] for x in range(n + 1)]\n",
    "    actualInvestments = [[[] for x in range(money + 1)] for x in range(n+1)] #defaultdict(list)\n",
    "    # Build table K[][] in bottom up manner\n",
    "    for i in range(n + 1):\n",
    "        for w in range(money + 1):\n",
    "            if i == 0 or w == 0:\n",
    "                K[i][w] = 0\n",
    "            elif investments[i-1].InvestmentCost <= w:\n",
    "                if (investments[i-1].ROI + K[i-1][w-investments[i-1].InvestmentCost]) > K[i-1][w]:\n",
    "                    K[i][w] = investments[i-1].ROI + K[i-1][w-investments[i-1].InvestmentCost]\n",
    "                    for element in actualInvestments[i-1][w-investments[i-1].InvestmentCost]:\n",
    "                        actualInvestments[i][w].append(element)\n",
    "                    actualInvestments[i][w].append(investments[i-1])\n",
    "                else:\n",
    "                    K[i][w] = K[i-1][w]\n",
    "                    for element in actualInvestments[i-1][w]:\n",
    "                        actualInvestments[i][w].append(element)\n",
    "\n",
    "            else:\n",
    "                K[i][w] = K[i-1][w]\n",
    "                for element in actualInvestments[i-1][w]:\n",
    "                    actualInvestments[i][w].append(element)\n",
    "    return K[n][money], actualInvestments[n][money]"
   ]
  },
  {
   "cell_type": "code",
   "execution_count": 32,
   "id": "5cf6c4ba",
   "metadata": {},
   "outputs": [],
   "source": [
    "#file = \"zhvi-short.csv\" # Short version\n",
    "file = \"state_zhvi_summary_allhomes.csv\" # Long version\n",
    "#money = 15\n",
    "money = 750000\n",
    "investments = loadInvestments(file)"
   ]
  },
  {
   "cell_type": "code",
   "execution_count": 38,
   "id": "fc117169",
   "metadata": {},
   "outputs": [
    {
     "name": "stdout",
     "output_type": "stream",
     "text": [
      "37275.221996685555\n",
      "Michigan,152000,6531.253144023297\n",
      "Colorado,380200,21764.408594415003\n",
      "North Dakota,206700,8979.560258247258\n",
      "ROI: 37275.221996685555, Cost: 738900, Money: 750000\n"
     ]
    }
   ],
   "source": [
    "x,y = optimizeInvestments(investments, money)\n",
    "print(x)\n",
    "roi = 0\n",
    "cost = 0\n",
    "for investment in y:\n",
    "    print(investment)\n",
    "    roi+=investment.ROI\n",
    "    cost+=investment.InvestmentCost\n",
    "print(\"ROI: {}, Cost: {}, Money: {}\".format(roi,cost,money))"
   ]
  }
 ],
 "metadata": {
  "kernelspec": {
   "display_name": "Python 3 (ipykernel)",
   "language": "python",
   "name": "python3"
  },
  "language_info": {
   "codemirror_mode": {
    "name": "ipython",
    "version": 3
   },
   "file_extension": ".py",
   "mimetype": "text/x-python",
   "name": "python",
   "nbconvert_exporter": "python",
   "pygments_lexer": "ipython3",
   "version": "3.9.12"
  }
 },
 "nbformat": 4,
 "nbformat_minor": 5
}
