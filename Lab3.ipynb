{
 "cells": [
  {
   "cell_type": "code",
   "execution_count": 78,
   "id": "4b0f7f28",
   "metadata": {},
   "outputs": [],
   "source": [
    "# Imports\n",
    "import math\n",
    "import time\n",
    "import random"
   ]
  },
  {
   "cell_type": "code",
   "execution_count": 79,
   "id": "0c0c8005",
   "metadata": {},
   "outputs": [],
   "source": [
    "def isPrime(p):\n",
    "    if p < 2:\n",
    "        return False\n",
    "    else:\n",
    "        for i in range(2,int(math.sqrt(p))+1):\n",
    "            if (p%i) == 0:\n",
    "                return False\n",
    "        return True\n",
    "    return False"
   ]
  },
  {
   "cell_type": "code",
   "execution_count": 80,
   "id": "e9c03b55",
   "metadata": {},
   "outputs": [],
   "source": [
    "def nBitPrime(n: int):\n",
    "    my_number = 0\n",
    "    while not isPrime(my_number):\n",
    "        x = random.random()\n",
    "        #my_number = random.randint(2,n)\n",
    "        my_number = x*(2**n)\n",
    "        my_number = int(my_number)\n",
    "    return my_number"
   ]
  },
  {
   "cell_type": "code",
   "execution_count": 81,
   "id": "8467c738",
   "metadata": {},
   "outputs": [],
   "source": [
    "def generatePQ(n: int):\n",
    "    P = nBitPrime(n)\n",
    "    Q = nBitPrime(n)\n",
    "    return P*Q"
   ]
  },
  {
   "cell_type": "code",
   "execution_count": 82,
   "id": "78bfa039",
   "metadata": {},
   "outputs": [],
   "source": [
    "def factor(PQ: int):\n",
    "    for i in range(2,PQ):\n",
    "        if PQ%i == 0:\n",
    "            P = i\n",
    "            break\n",
    "    Q = PQ / P\n",
    "    return P,Q"
   ]
  },
  {
   "cell_type": "code",
   "execution_count": 83,
   "id": "a483bf4a",
   "metadata": {},
   "outputs": [
    {
     "name": "stdout",
     "output_type": "stream",
     "text": [
      "N\t\tTime\n",
      "5\t\t0.000\n",
      "6\t\t0.000\n",
      "7\t\t0.000\n",
      "8\t\t0.000\n",
      "9\t\t0.000\n",
      "10\t\t0.000\n",
      "11\t\t1.048\n",
      "12\t\t0.000\n",
      "13\t\t0.000\n",
      "14\t\t0.000\n",
      "15\t\t1.007\n",
      "16\t\t2.996\n",
      "17\t\t10.500\n",
      "18\t\t6.000\n",
      "19\t\t1.000\n",
      "20\t\t56.566\n",
      "21\t\t141.326\n",
      "22\t\t197.843\n",
      "23\t\t491.550\n",
      "24\t\t167.379\n",
      "25\t\t1789.495\n",
      "26\t\t3250.633\n",
      "27\t\t4685.931\n",
      "28\t\t5252.670\n",
      "29\t\t3296.799\n",
      "30\t\t30089.995\n",
      "31\t\t109784.180\n",
      "32\t\t98223.874\n",
      "33\t\t812147.175\n",
      "34\t\t335044.306\n"
     ]
    },
    {
     "ename": "KeyboardInterrupt",
     "evalue": "",
     "output_type": "error",
     "traceback": [
      "\u001b[1;31m---------------------------------------------------------------------------\u001b[0m",
      "\u001b[1;31mKeyboardInterrupt\u001b[0m                         Traceback (most recent call last)",
      "Input \u001b[1;32mIn [83]\u001b[0m, in \u001b[0;36m<cell line: 3>\u001b[1;34m()\u001b[0m\n\u001b[0;32m      4\u001b[0m t1 \u001b[38;5;241m=\u001b[39m time\u001b[38;5;241m.\u001b[39mtime()\n\u001b[0;32m      5\u001b[0m PQ \u001b[38;5;241m=\u001b[39m generatePQ(n)\n\u001b[1;32m----> 6\u001b[0m P,Q \u001b[38;5;241m=\u001b[39m \u001b[43mfactor\u001b[49m\u001b[43m(\u001b[49m\u001b[43mPQ\u001b[49m\u001b[43m)\u001b[49m\n\u001b[0;32m      7\u001b[0m t2 \u001b[38;5;241m=\u001b[39m time\u001b[38;5;241m.\u001b[39mtime()\n\u001b[0;32m      8\u001b[0m difftime \u001b[38;5;241m=\u001b[39m (t2\u001b[38;5;241m-\u001b[39mt1)\u001b[38;5;241m*\u001b[39m\u001b[38;5;241m1000\u001b[39m\n",
      "Input \u001b[1;32mIn [82]\u001b[0m, in \u001b[0;36mfactor\u001b[1;34m(PQ)\u001b[0m\n\u001b[0;32m      1\u001b[0m \u001b[38;5;28;01mdef\u001b[39;00m \u001b[38;5;21mfactor\u001b[39m(PQ: \u001b[38;5;28mint\u001b[39m):\n\u001b[1;32m----> 2\u001b[0m     \u001b[38;5;28;01mfor\u001b[39;00m i \u001b[38;5;129;01min\u001b[39;00m \u001b[38;5;28mrange\u001b[39m(\u001b[38;5;241m2\u001b[39m,PQ):\n\u001b[0;32m      3\u001b[0m         \u001b[38;5;28;01mif\u001b[39;00m PQ\u001b[38;5;241m%\u001b[39mi \u001b[38;5;241m==\u001b[39m \u001b[38;5;241m0\u001b[39m:\n\u001b[0;32m      4\u001b[0m             P \u001b[38;5;241m=\u001b[39m i\n",
      "\u001b[1;31mKeyboardInterrupt\u001b[0m: "
     ]
    }
   ],
   "source": [
    "n = 5\n",
    "print(\"N\\t\\tTime\")\n",
    "while n <= 100:\n",
    "    t1 = time.time()\n",
    "    PQ = generatePQ(n)\n",
    "    P,Q = factor(PQ)\n",
    "    t2 = time.time()\n",
    "    difftime = (t2-t1)*1000\n",
    "    print(\"{}\\t\\t{:.3f}\".format(n,difftime))\n",
    "    n+=1"
   ]
  }
 ],
 "metadata": {
  "kernelspec": {
   "display_name": "Python 3 (ipykernel)",
   "language": "python",
   "name": "python3"
  },
  "language_info": {
   "codemirror_mode": {
    "name": "ipython",
    "version": 3
   },
   "file_extension": ".py",
   "mimetype": "text/x-python",
   "name": "python",
   "nbconvert_exporter": "python",
   "pygments_lexer": "ipython3",
   "version": "3.9.12"
  }
 },
 "nbformat": 4,
 "nbformat_minor": 5
}
