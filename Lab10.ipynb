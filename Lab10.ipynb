{
 "cells": [
  {
   "cell_type": "code",
   "execution_count": 1,
   "id": "295f7f32",
   "metadata": {},
   "outputs": [],
   "source": [
    "# Finds ALL ways to place n nonattacking queens on a n x n board\n",
    "# NOTE: State[i] is the row for the queen on Column i\n",
    "# NOTE: There are solutions for n>3\n",
    "# Stack ADT with list implementation from Lab 5\n",
    "class MyStack(object):\n",
    "    def __init__ (self, type): # Creates an empty list\n",
    "        self.elemType = type \n",
    "        self.state = [] # Empty list\n",
    "    def __str__ (self): # for print\n",
    "        return str(self.state) \n",
    "    def empty(self):\n",
    "        return len(self.state) == 0\n",
    "    def push(self, elem): # Adds an element to the top of a stack \n",
    "        if type(elem) == self.elemType:\n",
    "            self.state.append(elem)\n",
    "        else:\n",
    "            raise Exception(\"The element is not the same type as the eleemnts in the list\")\n",
    "\n",
    "    def pop(self): # Removes an element from the top of the stack\n",
    "        if self.empty():\n",
    "            raise ValueError(\"Requested top of an empty stack\") \n",
    "        else:\n",
    "            return self.state.pop()\n",
    "    def top(self): # Returns the top of a nonempty stack\n",
    "        if self.empty():\n",
    "            raise ValueError(\"Requested top of an empty stack\") \n",
    "        else:\n",
    "            return self.state[-1]"
   ]
  },
  {
   "cell_type": "code",
   "execution_count": 2,
   "id": "f3cc892b",
   "metadata": {},
   "outputs": [],
   "source": [
    "def nQueens(n):\n",
    "    # Each state will include only the queens that have been placed so far\n",
    "    initialState = [] # Initial empty state\n",
    "    s = MyStack(list) # For a depth first search\n",
    "    s.push(initialState) # Push the initial state onto the Stack\n",
    "    # While we still have states to explore\n",
    "    while not s.empty():\n",
    "        currentState = s.pop() # Grab the next state\n",
    "        currentCol = len(currentState)\n",
    "        # See if we found a solved state at a leaf node\n",
    "        # That is, we have filled in every column with a queen\n",
    "        if currentCol == n:\n",
    "            print(currentState) # Display the solution\n",
    "        else:\n",
    "        # Produce the state's children (if they are feasible)\n",
    "        # Note children are produced backward so they come off the\n",
    "        # stack later left to right\n",
    "            for currentRow in range(n,0,-1):\n",
    "            # Check horizontal and both diagonals of previous queens\n",
    "                for previousCol in range(currentCol):\n",
    "                    if (currentState[previousCol] == currentRow) or abs(currentState[previousCol]-currentRow) == (currentCol - previousCol):\n",
    "                        break\n",
    "                    else:\n",
    "                    # Create child by making a copy and appending new col \n",
    "                        childState = currentState.copy() \n",
    "                        childState.append(currentRow)\n",
    "                        s.push(childState) # Push child onto data structure\n",
    "# Testing code (check 4,5,6,7)\n",
    "# for n in range(4,15):\n",
    "#    nQueens(n)"
   ]
  },
  {
   "cell_type": "code",
   "execution_count": 7,
   "id": "e96e635a",
   "metadata": {},
   "outputs": [],
   "source": [
    "def graphColoring(graph, colors):\n",
    "    n = len(graph)\n",
    "    currentColors = []\n",
    "    #initialState = [] # Initial empty state\n",
    "    s = MyStack(list) # For a depth first search\n",
    "    #s.push(initialState) # Push the initial state onto the Stack\n",
    "    s.push([])\n",
    "    # While we still have states to explore\n",
    "    colors.reverse()\n",
    "    while not s.empty():\n",
    "        currentState = s.pop()\n",
    "        if len(currentState) == 0:\n",
    "            for color in colors: # We add every possible color node first, but we will visit them only if no other option\n",
    "                temp = currentState.copy()\n",
    "                temp.append(color)\n",
    "                s.push(temp)\n",
    "        else:\n",
    "            availableColors = colors.copy()\n",
    "            for i in range(len(currentState)):# We delete colors that have been used by adjacent nodes\n",
    "                if graph[len(currentState)][i]: # If adjacent\n",
    "                    try:\n",
    "                        availableColors.remove(currentState[i])\n",
    "                    except:\n",
    "                        pass\n",
    "            for color in availableColors:\n",
    "                temp = currentState.copy()\n",
    "                temp.append(color)\n",
    "                s.push(temp)\n",
    "        currentColors = s.top()              \n",
    "        if len(currentColors) == n: # If every node has been colored successfully, then we dont need to continue looking\n",
    "            break\n",
    "    print(currentColors)"
   ]
  },
  {
   "cell_type": "code",
   "execution_count": 8,
   "id": "6319471e",
   "metadata": {},
   "outputs": [
    {
     "name": "stdout",
     "output_type": "stream",
     "text": [
      "['r', 'g', 'r', 'b', 'g', 'b']\n"
     ]
    }
   ],
   "source": [
    "# Test data\n",
    "# Adjacency matrix representation of a graph\n",
    "# This particular graph is the one from the videos\n",
    "graph = [[False, True, False, False, False, True ], [True, False, True, False, False, True ], \n",
    "         [False, True, False, True, True, False], [False, False, True, False, True, False], \n",
    "         [False, False, True, True, False, True ], [True, True, False, False, True, False]]\n",
    "colors = ['r', 'g', 'b'] \n",
    "graphColoring(graph, colors)\n",
    "# expected answer\n",
    "# ['r', 'g', 'r', 'b', 'g', 'b']"
   ]
  }
 ],
 "metadata": {
  "kernelspec": {
   "display_name": "Python 3 (ipykernel)",
   "language": "python",
   "name": "python3"
  },
  "language_info": {
   "codemirror_mode": {
    "name": "ipython",
    "version": 3
   },
   "file_extension": ".py",
   "mimetype": "text/x-python",
   "name": "python",
   "nbconvert_exporter": "python",
   "pygments_lexer": "ipython3",
   "version": "3.9.12"
  }
 },
 "nbformat": 4,
 "nbformat_minor": 5
}
