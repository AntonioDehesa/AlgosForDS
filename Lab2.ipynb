{
 "cells": [
  {
   "cell_type": "code",
   "execution_count": 12,
   "id": "7a522ca8",
   "metadata": {},
   "outputs": [],
   "source": [
    "# Imports\n",
    "import random\n",
    "import time"
   ]
  },
  {
   "cell_type": "code",
   "execution_count": 25,
   "id": "83c0c13b",
   "metadata": {},
   "outputs": [
    {
     "name": "stdout",
     "output_type": "stream",
     "text": [
      "Before sort\n",
      "[10, 59, 99, 69, 31, 90, 14, 56, 55, 22, 29, 88, 11, 94, 18, 39, 46, 72, 96, 19, 53, 4, 48, 66, 78, 6, 93, 12, 63, 27, 89, 76, 84, 58, 9, 28, 3, 77, 13, 86, 57, 15, 54, 97, 42, 95, 17, 82, 44, 52, 40, 79, 0, 21, 85, 87, 20, 43, 26, 33, 32, 24, 23, 2, 60, 41, 67, 91, 62, 37, 36, 7, 75, 68, 65, 47, 74, 73, 64, 71, 30, 92, 35, 61, 81, 50, 45, 51, 38, 83, 80, 98, 5, 16, 70, 25, 49, 1, 8, 34]\n",
      "After sort\n",
      "[0, 1, 2, 3, 4, 5, 6, 7, 8, 9, 10, 11, 12, 13, 14, 15, 16, 17, 18, 19, 20, 21, 22, 23, 24, 25, 26, 27, 28, 29, 30, 31, 32, 33, 34, 35, 36, 37, 38, 39, 40, 41, 42, 43, 44, 45, 46, 47, 48, 49, 50, 51, 52, 53, 54, 55, 56, 57, 58, 59, 60, 61, 62, 63, 64, 65, 66, 67, 68, 69, 70, 71, 72, 73, 74, 75, 76, 77, 78, 79, 80, 81, 82, 83, 84, 85, 86, 87, 88, 89, 90, 91, 92, 93, 94, 95, 96, 97, 98, 99]\n"
     ]
    }
   ],
   "source": [
    "def merge(A,B):\n",
    "    out = []\n",
    "    i,j = 0,0\n",
    "    while i < len(A) and j < len(B):\n",
    "        if A[i] < B[j]:\n",
    "            out.append(A[i])\n",
    "            i+=1\n",
    "        else:\n",
    "            out.append(B[j])\n",
    "            j+=1\n",
    "    while i < len(A):\n",
    "        out.append(A[i])\n",
    "        i+=1\n",
    "    while j < len(B):\n",
    "        out.append(B[j])\n",
    "        j+=1\n",
    "    return out\n",
    "\n",
    "def mergeSort(L: list[int]):\n",
    "    if len(L) < 2:\n",
    "        return L[:]\n",
    "    else:\n",
    "        mid = len(L) // 2\n",
    "        Left = mergeSort(L[:mid])\n",
    "        Right = mergeSort(L[mid:])\n",
    "        return merge(Left, Right)\n",
    "A = [i for i in range(100)]\n",
    "random.shuffle(A)\n",
    "print(\"Before sort\")\n",
    "print(A)\n",
    "print(\"After sort\")\n",
    "print(mergeSort(A))"
   ]
  },
  {
   "cell_type": "code",
   "execution_count": 26,
   "id": "3d9eec18",
   "metadata": {},
   "outputs": [
    {
     "name": "stdout",
     "output_type": "stream",
     "text": [
      "Before sort\n",
      "[22, 13, 42, 31, 8, 66, 36, 79, 50, 69, 6, 25, 12, 11, 91, 24, 20, 48, 61, 21, 7, 96, 70, 14, 9, 52, 63, 18, 59, 65, 84, 88, 46, 80, 47, 16, 32, 40, 93, 43, 53, 64, 51, 99, 98, 28, 73, 82, 41, 68, 78, 39, 76, 54, 35, 1, 15, 44, 95, 89, 29, 72, 55, 23, 33, 97, 4, 56, 10, 45, 77, 67, 92, 86, 38, 60, 19, 71, 5, 37, 3, 27, 85, 34, 94, 58, 2, 49, 90, 26, 81, 83, 57, 75, 30, 74, 0, 87, 62, 17]\n",
      "After sort\n",
      "[0, 1, 2, 3, 4, 5, 6, 7, 8, 9, 10, 11, 12, 13, 14, 15, 16, 17, 18, 19, 20, 21, 22, 23, 24, 25, 26, 27, 28, 29, 30, 31, 32, 33, 34, 35, 36, 37, 38, 39, 40, 41, 42, 43, 44, 45, 46, 47, 48, 49, 50, 51, 52, 53, 54, 55, 56, 57, 58, 59, 60, 61, 62, 63, 64, 65, 66, 67, 68, 69, 70, 71, 72, 73, 74, 75, 76, 77, 78, 79, 80, 81, 82, 83, 84, 85, 86, 87, 88, 89, 90, 91, 92, 93, 94, 95, 96, 97, 98, 99]\n"
     ]
    }
   ],
   "source": [
    "def insertionSort(L: list[int]):\n",
    "    for i in range(1,len(L)):\n",
    "        key = L[i]\n",
    "        j = i-1\n",
    "        while j>= 0 and L[j] > key:\n",
    "            L[j+1] = L[j]\n",
    "            j = j-1\n",
    "        L[j+1] = key\n",
    "    return L\n",
    "A = [i for i in range(100)]\n",
    "random.shuffle(A)\n",
    "print(\"Before sort\")\n",
    "print(A)\n",
    "print(\"After sort\")\n",
    "print(insertionSort(A))"
   ]
  },
  {
   "cell_type": "code",
   "execution_count": 35,
   "id": "60fe5b9d",
   "metadata": {},
   "outputs": [
    {
     "name": "stdout",
     "output_type": "stream",
     "text": [
      "Before sort\n",
      "[61, 83, 18, 96, 59, 11, 23, 19, 68, 65, 66, 77, 4, 54, 58, 62, 48, 1, 20, 57, 88, 75, 44, 47, 90, 73, 16, 31, 10, 2, 76, 41, 98, 91, 38, 70, 94, 15, 56, 78, 87, 9, 72, 0, 13, 49, 6, 45, 85, 7, 33, 86, 40, 5, 97, 89, 17, 35, 69, 21, 74, 50, 29, 42, 25, 8, 26, 28, 64, 93, 71, 39, 30, 92, 60, 46, 27, 34, 80, 67, 55, 99, 81, 84, 36, 95, 12, 51, 63, 43, 14, 53, 37, 79, 22, 82, 52, 32, 24, 3]\n",
      "After sort\n",
      "[0, 1, 2, 3, 4, 5, 6, 7, 8, 9, 10, 11, 12, 13, 14, 15, 16, 17, 18, 19, 20, 21, 22, 23, 24, 25, 26, 27, 28, 29, 30, 31, 32, 33, 34, 35, 36, 37, 38, 39, 40, 41, 42, 43, 44, 45, 46, 47, 48, 49, 50, 51, 52, 53, 54, 55, 56, 57, 58, 59, 60, 61, 62, 63, 64, 65, 66, 67, 68, 69, 70, 71, 72, 73, 74, 75, 76, 77, 78, 79, 80, 81, 82, 83, 84, 85, 86, 87, 88, 89, 90, 91, 92, 93, 94, 95, 96, 97, 98, 99]\n"
     ]
    }
   ],
   "source": [
    "def bubbleSort(L: list[int]):\n",
    "    n = len(L)\n",
    "    for i in range(n):\n",
    "        for j in range(1,n-i):\n",
    "            if L[j] < L[j-1]:\n",
    "                L[j],L[j-1] = L[j-1],L[j]\n",
    "    return L\n",
    "A = [i for i in range(100)]\n",
    "random.shuffle(A)\n",
    "print(\"Before sort\")\n",
    "print(A)\n",
    "print(\"After sort\")\n",
    "print(bubbleSort(A))"
   ]
  },
  {
   "cell_type": "code",
   "execution_count": 40,
   "id": "af1f80a8",
   "metadata": {},
   "outputs": [
    {
     "name": "stdout",
     "output_type": "stream",
     "text": [
      "N\t\tMerge\t\tInsert\t\tBubble\n",
      "100\t\t0.000\t\t0.000\t\t1.501\n",
      "200\t\t0.505\t\t1.425\t\t3.013\n",
      "300\t\t0.995\t\t2.633\t\t4.159\n",
      "400\t\t0.000\t\t4.001\t\t8.009\n",
      "500\t\t1.001\t\t7.000\t\t13.363\n",
      "600\t\t2.000\t\t9.566\t\t18.000\n",
      "700\t\t2.000\t\t12.000\t\t25.691\n",
      "800\t\t1.995\t\t18.000\t\t31.521\n",
      "900\t\t2.041\t\t22.000\t\t44.000\n",
      "1000\t\t3.000\t\t28.534\t\t60.000\n",
      "1100\t\t3.001\t\t33.999\t\t62.201\n",
      "1200\t\t3.000\t\t44.688\t\t136.452\n",
      "1300\t\t2.699\t\t43.823\t\t101.049\n",
      "1400\t\t3.029\t\t53.593\t\t112.762\n",
      "1500\t\t3.615\t\t65.314\t\t116.042\n",
      "1600\t\t4.152\t\t79.846\t\t153.755\n",
      "1700\t\t4.509\t\t79.414\t\t147.302\n",
      "1800\t\t4.004\t\t84.301\t\t176.222\n",
      "1900\t\t5.021\t\t97.548\t\t189.212\n",
      "2000\t\t5.508\t\t142.812\t\t226.327\n",
      "2100\t\t5.504\t\t121.349\t\t252.264\n",
      "2200\t\t5.719\t\t134.035\t\t265.119\n",
      "2300\t\t5.998\t\t142.412\t\t281.696\n",
      "2400\t\t5.999\t\t154.344\t\t308.377\n",
      "2500\t\t6.077\t\t173.138\t\t330.243\n",
      "2600\t\t6.685\t\t184.389\t\t357.071\n",
      "2700\t\t8.088\t\t201.297\t\t391.883\n",
      "2800\t\t8.214\t\t213.593\t\t408.364\n",
      "2900\t\t7.599\t\t218.791\t\t446.757\n",
      "3000\t\t7.000\t\t236.612\t\t466.437\n",
      "3100\t\t7.081\t\t255.619\t\t498.851\n",
      "3200\t\t7.999\t\t285.336\t\t531.606\n",
      "3300\t\t8.000\t\t284.408\t\t583.449\n",
      "3400\t\t8.995\t\t323.989\t\t774.683\n",
      "3500\t\t12.000\t\t367.573\t\t688.932\n",
      "3600\t\t9.731\t\t354.394\t\t725.940\n",
      "3700\t\t10.002\t\t358.389\t\t706.882\n",
      "3800\t\t10.000\t\t382.381\t\t745.778\n",
      "3900\t\t10.036\t\t404.625\t\t829.099\n",
      "4000\t\t11.000\t\t422.316\t\t835.899\n",
      "4100\t\t10.000\t\t442.813\t\t870.445\n",
      "4200\t\t11.001\t\t486.288\t\t971.915\n",
      "4300\t\t12.009\t\t503.228\t\t996.718\n",
      "4400\t\t12.075\t\t519.814\t\t1007.107\n",
      "4500\t\t11.000\t\t535.188\t\t1084.085\n",
      "4600\t\t12.001\t\t563.893\t\t1126.102\n",
      "4700\t\t13.000\t\t584.792\t\t1178.368\n",
      "4800\t\t13.999\t\t616.901\t\t1233.618\n",
      "4900\t\t14.001\t\t638.008\t\t1281.433\n",
      "5000\t\t13.000\t\t663.749\t\t1404.829\n"
     ]
    }
   ],
   "source": [
    "n = 100\n",
    "print(\"N\\t\\tMerge\\t\\tInsert\\t\\tBubble\")\n",
    "while n <= 5000:\n",
    "    A = [i for i in range(n)]\n",
    "    random.shuffle(A)\n",
    "    t1 = time.time()\n",
    "    res = mergeSort(A)\n",
    "    t2 = time.time()\n",
    "    mtime = (t2-t1)*1000\n",
    "    random.shuffle(A)\n",
    "    t1 = time.time()\n",
    "    res = insertionSort(A)\n",
    "    t2 = time.time()\n",
    "    itime = (t2-t1)*1000\n",
    "    random.shuffle(A)\n",
    "    t1 = time.time()\n",
    "    res = bubbleSort(A)\n",
    "    t2 = time.time()\n",
    "    btime = (t2-t1)*1000\n",
    "    print(\"{}\\t\\t{:.3f}\\t\\t{:.3f}\\t\\t{:.3f}\".format(n,mtime,itime,btime))\n",
    "    n+=100"
   ]
  }
 ],
 "metadata": {
  "kernelspec": {
   "display_name": "Python 3 (ipykernel)",
   "language": "python",
   "name": "python3"
  },
  "language_info": {
   "codemirror_mode": {
    "name": "ipython",
    "version": 3
   },
   "file_extension": ".py",
   "mimetype": "text/x-python",
   "name": "python",
   "nbconvert_exporter": "python",
   "pygments_lexer": "ipython3",
   "version": "3.9.12"
  }
 },
 "nbformat": 4,
 "nbformat_minor": 5
}
