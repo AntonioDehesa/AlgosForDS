{
 "cells": [
  {
   "cell_type": "code",
   "execution_count": 1,
   "id": "04d5461b",
   "metadata": {},
   "outputs": [],
   "source": [
    "# Imports\n",
    "from collections import defaultdict\n",
    "from numpy import array as nparray"
   ]
  },
  {
   "cell_type": "code",
   "execution_count": 2,
   "id": "d4752250",
   "metadata": {},
   "outputs": [],
   "source": [
    "class MyVertex:\n",
    "    def __init__(self, id: int, dist: int = 0):\n",
    "        self.id = id\n",
    "        self.next = None\n",
    "        self.dist = dist"
   ]
  },
  {
   "cell_type": "code",
   "execution_count": 3,
   "id": "ec4cd3a1",
   "metadata": {},
   "outputs": [],
   "source": [
    "class MyQueue:\n",
    "    def __init__(self):\n",
    "        self.head = None\n",
    "        self.tail = None\n",
    "    \n",
    "    def enqueue(self, vertex, dist):\n",
    "        if not self.head:\n",
    "            self.head = MyVertex(vertex, dist)\n",
    "            self.tail = self.head\n",
    "        else:\n",
    "            self.tail.next = MyVertex(vertex, dist)\n",
    "            self.tail = self.tail.next\n",
    "    \n",
    "    def dequeue(self):\n",
    "        if not self.head:\n",
    "            raise ValueError(\"Impossible to dequeue elements from an empty queue\")\n",
    "        else:\n",
    "            vid = self.head.id\n",
    "            dist = self.head.dist\n",
    "            self.head = self.head.next\n",
    "                \n",
    "            return vid,dist\n",
    "    \n",
    "    def empty(self):\n",
    "        return self.head == None\n",
    "        \n",
    "    def __str__(self):\n",
    "        myAns = \"{\"\n",
    "        current = self.head\n",
    "        while current:\n",
    "            myAns+= str(current.id)\n",
    "            myAns+= \" : \"\n",
    "            myAns+= str(current.dist)\n",
    "            if current.next:\n",
    "                myAns+= \", \"\n",
    "            current = current.next\n",
    "        myAns += \"}\"\n",
    "        return myAns"
   ]
  },
  {
   "cell_type": "code",
   "execution_count": 4,
   "id": "2ebbdb89",
   "metadata": {},
   "outputs": [],
   "source": [
    "def loadGraph(edgeFilename: str):\n",
    "    my_vertices = defaultdict(set) # An empty set. We use a set because a person cant be friends with the same person twice\n",
    "    try:\n",
    "        with open(edgeFilename, \"r\") as myFile:\n",
    "            for line in myFile:\n",
    "                ids = line.split()\n",
    "                my_vertices[int(ids[0])].add(int(ids[1]))\n",
    "                my_vertices[int(ids[1])].add(int(ids[0]))\n",
    "    except:\n",
    "        print(\"No such file was found\")\n",
    "            \n",
    "    return my_vertices"
   ]
  },
  {
   "cell_type": "code",
   "execution_count": 5,
   "id": "a2d607ad",
   "metadata": {},
   "outputs": [],
   "source": [
    "def BFS(G,s):\n",
    "    dist= [-1 for i in range(len(G))] # We could set this to infinite, but setting it to -1 would accomplish the same\n",
    "    queue = MyQueue() # We create the empty queue\n",
    "    queue.enqueue(s,0) # We add the origin vertex to the queue\n",
    "    dist[s] = 0 # The distance from the origin vertex to itself is 0\n",
    "    while not queue.empty(): # loop till queue is empty\n",
    "        curr,dis = queue.dequeue() # remove element from queue, saving which element it is, and the distance. \n",
    "        for edge in G[curr]: # loop for every neighbor\n",
    "            if dist[edge] == -1: # If the distance has not been modified\n",
    "                dist[edge] = dis + 1 # We add the distance of the current element plus one\n",
    "                queue.enqueue(edge, dist[edge]) # We enqueue the current element\n",
    "    return dist # finally return dist"
   ]
  },
  {
   "cell_type": "code",
   "execution_count": 6,
   "id": "a8ac63ac",
   "metadata": {},
   "outputs": [],
   "source": [
    "def distanceDistribution(G):\n",
    "    current_loop = 0\n",
    "    distribution = defaultdict(int)\n",
    "    for key in G.keys():\n",
    "        distances = BFS(G,key)\n",
    "        for i in distances:\n",
    "            distribution[i]+=1\n",
    "        current_loop+=1\n",
    "        if current_loop == 100:\n",
    "            current_loop = 0\n",
    "            print(\"====================\")\n",
    "            print(\"Current distributions:\")\n",
    "            for inKey in G.keys():\n",
    "                print(\"{}: {}\".format(inKey, distribution[inKey]))\n",
    "            print(\"====================\")\n",
    "    s = sum(distribution.values())\n",
    "    for k, v in distribution.items():\n",
    "        if v > 0:\n",
    "            pct = v * 100.0 / s\n",
    "            distribution[k] = pct\n",
    "            print(k, pct)\n",
    "    return distribution"
   ]
  },
  {
   "cell_type": "code",
   "execution_count": 8,
   "id": "d4e7564e",
   "metadata": {},
   "outputs": [
    {
     "name": "stdout",
     "output_type": "stream",
     "text": [
      "1 24.793388429752067\n",
      "0 9.090909090909092\n",
      "2 26.446280991735538\n",
      "3 19.834710743801654\n",
      "4 11.570247933884298\n",
      "5 6.6115702479338845\n",
      "6 1.6528925619834711\n"
     ]
    },
    {
     "data": {
      "text/plain": [
       "defaultdict(int,\n",
       "            {1: 24.793388429752067,\n",
       "             0: 9.090909090909092,\n",
       "             2: 26.446280991735538,\n",
       "             3: 19.834710743801654,\n",
       "             4: 11.570247933884298,\n",
       "             5: 6.6115702479338845,\n",
       "             6: 1.6528925619834711})"
      ]
     },
     "execution_count": 8,
     "metadata": {},
     "output_type": "execute_result"
    }
   ],
   "source": [
    "graph = loadGraph(\"edgesshort.txt\")\n",
    "#graph = loadGraph(\"edges.txt\")\n",
    "distanceDistribution(graph)\n",
    "#print(distanceDistribution(graph))"
   ]
  }
 ],
 "metadata": {
  "kernelspec": {
   "display_name": "Python 3 (ipykernel)",
   "language": "python",
   "name": "python3"
  },
  "language_info": {
   "codemirror_mode": {
    "name": "ipython",
    "version": 3
   },
   "file_extension": ".py",
   "mimetype": "text/x-python",
   "name": "python",
   "nbconvert_exporter": "python",
   "pygments_lexer": "ipython3",
   "version": "3.9.12"
  }
 },
 "nbformat": 4,
 "nbformat_minor": 5
}
