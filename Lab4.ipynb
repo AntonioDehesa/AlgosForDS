{
 "cells": [
  {
   "cell_type": "code",
   "execution_count": 40,
   "id": "9e95b3f4",
   "metadata": {},
   "outputs": [],
   "source": [
    "def cPairDist(points: list[int]):\n",
    "    points.sort() # First, we sort our list of points\n",
    "    print(points)\n",
    "    return recCPairDist(points)\n",
    "    "
   ]
  },
  {
   "cell_type": "code",
   "execution_count": 41,
   "id": "d6bfc32c",
   "metadata": {},
   "outputs": [],
   "source": [
    "def recCPairDist(points: list[int]):\n",
    "    nPoints = len(points)\n",
    "    if nPoints > 2:\n",
    "        firstHalf, secondHalf = points[: int((nPoints)/2)], points[int((nPoints/2)):]\n",
    "        lastInFirstHalf = firstHalf[-1]\n",
    "        firstInSecondHalf = secondHalf[0]\n",
    "        midDiff = abs(firstInSecondHalf - lastInFirstHalf)\n",
    "        maxDiffFirstHalf = recCPairDist(firstHalf)\n",
    "        maxDiffSecondHalf = recCPairDist(secondHalf)\n",
    "        return max(maxDiffFirstHalf, maxDiffSecondHalf, midDiff)\n",
    "    elif nPoints == 2:\n",
    "        return abs(points[0] - points[1])\n",
    "    else: \n",
    "        return points[0]"
   ]
  },
  {
   "cell_type": "code",
   "execution_count": 42,
   "id": "c2fa462f",
   "metadata": {},
   "outputs": [
    {
     "name": "stdout",
     "output_type": "stream",
     "text": [
      "List A\n",
      "[2, 4, 6, 7, 10, 12, 14, 16]\n",
      "3\n",
      "List B\n",
      "[2, 4, 5, 7, 10, 12, 14, 16]\n",
      "3\n",
      "List C\n",
      "[2, 3, 6, 8, 10, 12, 14]\n",
      "3\n"
     ]
    }
   ],
   "source": [
    "a = [7,4,12,14,2,10,16,6]\n",
    "print(\"List A\")\n",
    "print(cPairDist(a))\n",
    "b = [7, 4, 12, 14, 2, 10, 16, 5]\n",
    "c = [14, 8, 2, 6, 3, 10, 12]\n",
    "print(\"List B\")\n",
    "print(cPairDist(b))\n",
    "print(\"List C\")\n",
    "print(cPairDist(c))"
   ]
  }
 ],
 "metadata": {
  "kernelspec": {
   "display_name": "Python 3 (ipykernel)",
   "language": "python",
   "name": "python3"
  },
  "language_info": {
   "codemirror_mode": {
    "name": "ipython",
    "version": 3
   },
   "file_extension": ".py",
   "mimetype": "text/x-python",
   "name": "python",
   "nbconvert_exporter": "python",
   "pygments_lexer": "ipython3",
   "version": "3.9.12"
  }
 },
 "nbformat": 4,
 "nbformat_minor": 5
}
